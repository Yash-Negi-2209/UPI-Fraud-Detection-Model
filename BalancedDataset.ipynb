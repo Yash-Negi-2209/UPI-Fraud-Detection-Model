{
 "cells": [
  {
   "cell_type": "code",
   "execution_count": 2,
   "metadata": {},
   "outputs": [
    {
     "name": "stdout",
     "output_type": "stream",
     "text": [
      "Requirement already satisfied: pandas in d:\\python\\lib\\site-packages (2.2.3)\n",
      "Requirement already satisfied: numpy>=1.26.0 in d:\\python\\lib\\site-packages (from pandas) (1.26.4)\n",
      "Requirement already satisfied: python-dateutil>=2.8.2 in d:\\python\\lib\\site-packages (from pandas) (2.9.0.post0)\n",
      "Requirement already satisfied: pytz>=2020.1 in d:\\python\\lib\\site-packages (from pandas) (2024.2)\n",
      "Requirement already satisfied: tzdata>=2022.7 in d:\\python\\lib\\site-packages (from pandas) (2024.1)\n",
      "Requirement already satisfied: six>=1.5 in d:\\python\\lib\\site-packages (from python-dateutil>=2.8.2->pandas) (1.16.0)\n",
      "Note: you may need to restart the kernel to use updated packages.\n"
     ]
    },
    {
     "name": "stderr",
     "output_type": "stream",
     "text": [
      "\n",
      "[notice] A new release of pip is available: 24.2 -> 24.3.1\n",
      "[notice] To update, run: python.exe -m pip install --upgrade pip\n"
     ]
    },
    {
     "name": "stdout",
     "output_type": "stream",
     "text": [
      "New dataset created with shape: (17213, 11)\n"
     ]
    }
   ],
   "source": [
    "%pip install pandas\n",
    "import pandas as pd\n",
    "\n",
    "# Load your dataset\n",
    "# Replace 'your_dataset.csv' with your actual file name or DataFrame\n",
    "df = pd.read_csv(\"D:/VS CODE/UPI Fraud Detection/Model/Fraud.csv\")\n",
    "\n",
    "# Separate fraudulent and nonfraudulent transactions\n",
    "fraudulent = df[df['isFraud'] == 1]\n",
    "nonfraudulent = df[df['isFraud'] == 0]\n",
    "\n",
    "# Ensure all fraudulent transactions are included\n",
    "fraudulent_sample = fraudulent\n",
    "\n",
    "# Randomly sample 9000 rows from nonfraudulent transactions\n",
    "nonfraudulent_sample = nonfraudulent.sample(n=9000, random_state=42)\n",
    "\n",
    "# Combine the two samples\n",
    "balanced_dataset = pd.concat([fraudulent_sample, nonfraudulent_sample])\n",
    "\n",
    "# Shuffle the dataset to mix fraudulent and nonfraudulent transactions\n",
    "balanced_dataset = balanced_dataset.sample(frac=1, random_state=42).reset_index(drop=True)\n",
    "\n",
    "# Save or use the new dataset\n",
    "balanced_dataset.to_csv('balanced_dataset.csv', index=False)\n",
    "\n",
    "print(\"New dataset created with shape:\", balanced_dataset.shape)\n"
   ]
  }
 ],
 "metadata": {
  "kernelspec": {
   "display_name": "Python 3",
   "language": "python",
   "name": "python3"
  },
  "language_info": {
   "codemirror_mode": {
    "name": "ipython",
    "version": 3
   },
   "file_extension": ".py",
   "mimetype": "text/x-python",
   "name": "python",
   "nbconvert_exporter": "python",
   "pygments_lexer": "ipython3",
   "version": "3.12.3"
  }
 },
 "nbformat": 4,
 "nbformat_minor": 2
}
